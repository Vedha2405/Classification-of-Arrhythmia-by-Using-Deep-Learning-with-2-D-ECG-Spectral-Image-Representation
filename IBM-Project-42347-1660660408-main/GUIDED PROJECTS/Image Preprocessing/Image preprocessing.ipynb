{
 "cells": [
  {
   "cell_type": "markdown",
   "id": "20ba55a0",
   "metadata": {},
   "source": [
    "# IMAGE PREPROCESSING"
   ]
  },
  {
   "cell_type": "code",
   "execution_count": 3,
   "id": "7a2f17f6",
   "metadata": {},
   "outputs": [],
   "source": [
    " from keras.preprocessing.image import ImageDataGenerator"
   ]
  },
  {
   "cell_type": "code",
   "execution_count": 5,
   "id": "57c4179c",
   "metadata": {},
   "outputs": [],
   "source": [
    "# setting parameters for data augmentation for training data\n",
    "train_datagen=ImageDataGenerator(rescale=1./255,shear_range=0.2,zoom_range=0.2,horizontal_flip=True)"
   ]
  },
  {
   "cell_type": "code",
   "execution_count": 6,
   "id": "99c3143b",
   "metadata": {},
   "outputs": [],
   "source": [
    "# data augmentation to the testing data\n",
    "test_datagen=ImageDataGenerator(rescale=1./255)"
   ]
  },
  {
   "cell_type": "code",
   "execution_count": 13,
   "id": "fccbb95b",
   "metadata": {},
   "outputs": [
    {
     "name": "stdout",
     "output_type": "stream",
     "text": [
      "Found 15341 images belonging to 6 classes.\n"
     ]
    }
   ],
   "source": [
    "#performing data augmentation to train data\n",
    "x_train=train_datagen.flow_from_directory(directory=r'C:\\Users\\Adithyan\\OneDrive\\Desktop\\data\\train',target_size=(64,64),batch_size=32,class_mode='categorical')"
   ]
  },
  {
   "cell_type": "code",
   "execution_count": 11,
   "id": "69601077",
   "metadata": {},
   "outputs": [
    {
     "name": "stdout",
     "output_type": "stream",
     "text": [
      "Found 6825 images belonging to 6 classes.\n"
     ]
    }
   ],
   "source": [
    "x_test=test_datagen.flow_from_directory(directory=r'C:\\Users\\Adithyan\\OneDrive\\Desktop\\data\\test',target_size=(64,64),batch_size=32,class_mode='categorical')"
   ]
  },
  {
   "cell_type": "markdown",
   "id": "6facbe61",
   "metadata": {},
   "source": [
    "# MODEL BUILDING"
   ]
  },
  {
   "cell_type": "markdown",
   "id": "2e69fe35",
   "metadata": {},
   "source": [
    "MODEL BUILDING- IMPORTING LIBRARIES"
   ]
  },
  {
   "cell_type": "code",
   "execution_count": 18,
   "id": "e522c6df",
   "metadata": {},
   "outputs": [],
   "source": [
    "import numpy as np\n",
    "import tensorflow\n",
    "from tensorflow.keras.models import Sequential\n",
    "from tensorflow.keras import layers\n",
    "\n",
    "from tensorflow.keras.layers import Dense,Flatten\n",
    "\n",
    "from tensorflow.keras.layers import Conv2D,MaxPooling2D\n",
    "import tensorflow.keras"
   ]
  },
  {
   "cell_type": "code",
   "execution_count": 20,
   "id": "1dceab12",
   "metadata": {},
   "outputs": [],
   "source": [
    "model=Sequential()"
   ]
  },
  {
   "cell_type": "markdown",
   "id": "5c0a3b47",
   "metadata": {},
   "source": [
    "Adding CNN Layers"
   ]
  },
  {
   "cell_type": "code",
   "execution_count": 21,
   "id": "a5fb8e0d",
   "metadata": {},
   "outputs": [],
   "source": [
    "model.add(Conv2D(32,(3,3),input_shape=(64,64,3),activation='relu')) #Activation Function\n",
    "model.add(MaxPooling2D(pool_size=(2,2))) #Downsampling Purposes\n",
    "model.add(Conv2D(32,(3,3),activation='relu'))\n",
    "model.add(MaxPooling2D(pool_size=(2,2)))\n",
    "model.add(Flatten()) #Flatten the dimensions of the image"
   ]
  },
  {
   "cell_type": "markdown",
   "id": "fd280d42",
   "metadata": {},
   "source": [
    "ADDING DENSE LAYERS"
   ]
  },
  {
   "cell_type": "code",
   "execution_count": 23,
   "id": "67ed3850",
   "metadata": {},
   "outputs": [],
   "source": [
    "model.add(Dense(32))# Deeply connected neural network layers\n",
    "model.add(Dense(6,activation='softmax'))#Output layer with 6 neurons"
   ]
  },
  {
   "cell_type": "code",
   "execution_count": 24,
   "id": "8c9f4a72",
   "metadata": {},
   "outputs": [
    {
     "name": "stdout",
     "output_type": "stream",
     "text": [
      "Model: \"sequential_1\"\n",
      "_________________________________________________________________\n",
      " Layer (type)                Output Shape              Param #   \n",
      "=================================================================\n",
      " conv2d (Conv2D)             (None, 62, 62, 32)        896       \n",
      "                                                                 \n",
      " max_pooling2d (MaxPooling2D  (None, 31, 31, 32)       0         \n",
      " )                                                               \n",
      "                                                                 \n",
      " conv2d_1 (Conv2D)           (None, 29, 29, 32)        9248      \n",
      "                                                                 \n",
      " max_pooling2d_1 (MaxPooling  (None, 14, 14, 32)       0         \n",
      " 2D)                                                             \n",
      "                                                                 \n",
      " flatten (Flatten)           (None, 6272)              0         \n",
      "                                                                 \n",
      " dense (Dense)               (None, 32)                200736    \n",
      "                                                                 \n",
      " dense_1 (Dense)             (None, 32)                1056      \n",
      "                                                                 \n",
      " dense_2 (Dense)             (None, 6)                 198       \n",
      "                                                                 \n",
      "=================================================================\n",
      "Total params: 212,134\n",
      "Trainable params: 212,134\n",
      "Non-trainable params: 0\n",
      "_________________________________________________________________\n"
     ]
    }
   ],
   "source": [
    "#Summary of the model\n",
    "model.summary()"
   ]
  },
  {
   "cell_type": "markdown",
   "id": "25ed0973",
   "metadata": {},
   "source": [
    "EVALUATING LOSS FUNCTION"
   ]
  },
  {
   "cell_type": "code",
   "execution_count": 25,
   "id": "12cba149",
   "metadata": {},
   "outputs": [],
   "source": [
    "model.compile(optimizer='adam',loss='categorical_crossentropy',metrics=['accuracy'])"
   ]
  },
  {
   "cell_type": "markdown",
   "id": "9c1ad145",
   "metadata": {},
   "source": [
    "TRAINING THE MODEL"
   ]
  },
  {
   "cell_type": "code",
   "execution_count": 26,
   "id": "8a8b7e8c",
   "metadata": {},
   "outputs": [
    {
     "name": "stdout",
     "output_type": "stream",
     "text": [
      "Epoch 1/10\n"
     ]
    },
    {
     "name": "stderr",
     "output_type": "stream",
     "text": [
      "C:\\Users\\Adithyan\\AppData\\Local\\Temp\\ipykernel_34480\\53529210.py:1: UserWarning: `Model.fit_generator` is deprecated and will be removed in a future version. Please use `Model.fit`, which supports generators.\n",
      "  model.fit_generator(generator=x_train,steps_per_epoch = len(x_train), epochs=10, validation_data=x_test,validation_steps = len(x_test))\n"
     ]
    },
    {
     "name": "stdout",
     "output_type": "stream",
     "text": [
      "480/480 [==============================] - 86s 178ms/step - loss: 0.6344 - accuracy: 0.7872 - val_loss: 0.4425 - val_accuracy: 0.8435\n",
      "Epoch 2/10\n",
      "480/480 [==============================] - 44s 91ms/step - loss: 0.2637 - accuracy: 0.9226 - val_loss: 0.3615 - val_accuracy: 0.8832\n",
      "Epoch 3/10\n",
      "480/480 [==============================] - 40s 82ms/step - loss: 0.2099 - accuracy: 0.9374 - val_loss: 0.3158 - val_accuracy: 0.9008\n",
      "Epoch 4/10\n",
      "480/480 [==============================] - 37s 77ms/step - loss: 0.1811 - accuracy: 0.9470 - val_loss: 0.3320 - val_accuracy: 0.9073\n",
      "Epoch 5/10\n",
      "480/480 [==============================] - 38s 79ms/step - loss: 0.1646 - accuracy: 0.9499 - val_loss: 0.3251 - val_accuracy: 0.9030\n",
      "Epoch 6/10\n",
      "480/480 [==============================] - 37s 78ms/step - loss: 0.1462 - accuracy: 0.9540 - val_loss: 0.4452 - val_accuracy: 0.8837\n",
      "Epoch 7/10\n",
      "480/480 [==============================] - 38s 79ms/step - loss: 0.1334 - accuracy: 0.9589 - val_loss: 0.3869 - val_accuracy: 0.8914\n",
      "Epoch 8/10\n",
      "480/480 [==============================] - 43s 90ms/step - loss: 0.1269 - accuracy: 0.9602 - val_loss: 0.3681 - val_accuracy: 0.9021\n",
      "Epoch 9/10\n",
      "480/480 [==============================] - 38s 78ms/step - loss: 0.1193 - accuracy: 0.9634 - val_loss: 0.4694 - val_accuracy: 0.8796\n",
      "Epoch 10/10\n",
      "480/480 [==============================] - 39s 81ms/step - loss: 0.1113 - accuracy: 0.9654 - val_loss: 0.4390 - val_accuracy: 0.8903\n"
     ]
    },
    {
     "data": {
      "text/plain": [
       "<keras.callbacks.History at 0x1bd5eeed820>"
      ]
     },
     "execution_count": 26,
     "metadata": {},
     "output_type": "execute_result"
    }
   ],
   "source": [
    "model.fit_generator(generator=x_train,steps_per_epoch = len(x_train), epochs=10, validation_data=x_test,validation_steps = len(x_test))"
   ]
  },
  {
   "cell_type": "code",
   "execution_count": 27,
   "id": "8f0d2e03",
   "metadata": {},
   "outputs": [
    {
     "name": "stdout",
     "output_type": "stream",
     "text": [
      "Epoch 1/15\n"
     ]
    },
    {
     "name": "stderr",
     "output_type": "stream",
     "text": [
      "C:\\Users\\Adithyan\\AppData\\Local\\Temp\\ipykernel_34480\\2347427206.py:1: UserWarning: `Model.fit_generator` is deprecated and will be removed in a future version. Please use `Model.fit`, which supports generators.\n",
      "  model.fit_generator(generator=x_train,steps_per_epoch = len(x_train), epochs=15, validation_data=x_test,validation_steps = len(x_test))\n"
     ]
    },
    {
     "name": "stdout",
     "output_type": "stream",
     "text": [
      "480/480 [==============================] - 40s 84ms/step - loss: 0.1110 - accuracy: 0.9658 - val_loss: 0.4656 - val_accuracy: 0.8854\n",
      "Epoch 2/15\n",
      "480/480 [==============================] - 39s 81ms/step - loss: 0.1047 - accuracy: 0.9683 - val_loss: 0.3951 - val_accuracy: 0.9119\n",
      "Epoch 3/15\n",
      "480/480 [==============================] - 39s 82ms/step - loss: 0.0961 - accuracy: 0.9696 - val_loss: 0.3297 - val_accuracy: 0.9133\n",
      "Epoch 4/15\n",
      "480/480 [==============================] - 39s 82ms/step - loss: 0.0955 - accuracy: 0.9701 - val_loss: 0.3277 - val_accuracy: 0.9316\n",
      "Epoch 5/15\n",
      "480/480 [==============================] - 41s 85ms/step - loss: 0.0908 - accuracy: 0.9716 - val_loss: 0.2985 - val_accuracy: 0.9319\n",
      "Epoch 6/15\n",
      "480/480 [==============================] - 38s 79ms/step - loss: 0.0902 - accuracy: 0.9715 - val_loss: 0.3758 - val_accuracy: 0.9074\n",
      "Epoch 7/15\n",
      "480/480 [==============================] - 38s 79ms/step - loss: 0.0864 - accuracy: 0.9726 - val_loss: 0.3127 - val_accuracy: 0.9229\n",
      "Epoch 8/15\n",
      "480/480 [==============================] - 38s 80ms/step - loss: 0.0848 - accuracy: 0.9743 - val_loss: 0.4028 - val_accuracy: 0.9046\n",
      "Epoch 9/15\n",
      "480/480 [==============================] - 38s 79ms/step - loss: 0.0772 - accuracy: 0.9746 - val_loss: 0.4199 - val_accuracy: 0.9001\n",
      "Epoch 10/15\n",
      "480/480 [==============================] - 38s 79ms/step - loss: 0.0790 - accuracy: 0.9751 - val_loss: 0.3972 - val_accuracy: 0.9116\n",
      "Epoch 11/15\n",
      "480/480 [==============================] - 39s 81ms/step - loss: 0.0776 - accuracy: 0.9755 - val_loss: 0.3636 - val_accuracy: 0.9219\n",
      "Epoch 12/15\n",
      "480/480 [==============================] - 38s 80ms/step - loss: 0.0780 - accuracy: 0.9752 - val_loss: 0.3264 - val_accuracy: 0.9158\n",
      "Epoch 13/15\n",
      "480/480 [==============================] - 43s 89ms/step - loss: 0.0692 - accuracy: 0.9772 - val_loss: 0.5525 - val_accuracy: 0.8967\n",
      "Epoch 14/15\n",
      "480/480 [==============================] - 42s 87ms/step - loss: 0.0799 - accuracy: 0.9756 - val_loss: 0.3480 - val_accuracy: 0.9177\n",
      "Epoch 15/15\n",
      "480/480 [==============================] - 50s 104ms/step - loss: 0.0722 - accuracy: 0.9781 - val_loss: 0.3160 - val_accuracy: 0.9206\n"
     ]
    },
    {
     "data": {
      "text/plain": [
       "<keras.callbacks.History at 0x1bd67409df0>"
      ]
     },
     "execution_count": 27,
     "metadata": {},
     "output_type": "execute_result"
    }
   ],
   "source": [
    "model.fit_generator(generator=x_train,steps_per_epoch = len(x_train), epochs=15, validation_data=x_test,validation_steps = len(x_test))"
   ]
  },
  {
   "cell_type": "markdown",
   "id": "eb330bef",
   "metadata": {},
   "source": [
    "SAVING THE MODEL"
   ]
  },
  {
   "cell_type": "code",
   "execution_count": 32,
   "id": "f37aea32",
   "metadata": {},
   "outputs": [],
   "source": [
    "model.save('ECG_Classification.h5')"
   ]
  },
  {
   "cell_type": "markdown",
   "id": "ac9eb007",
   "metadata": {},
   "source": [
    "TESTING THE MODEL"
   ]
  },
  {
   "cell_type": "code",
   "execution_count": 35,
   "id": "273d71fb",
   "metadata": {},
   "outputs": [],
   "source": [
    "from tensorflow.keras.models import load_model\n",
    "from tensorflow.keras.preprocessing import image\n",
    "model=load_model(\"ECG_Classification.h5\")"
   ]
  },
  {
   "cell_type": "code",
   "execution_count": 42,
   "id": "172d7e18",
   "metadata": {},
   "outputs": [
    {
     "data": {
      "text/plain": [
       "5"
      ]
     },
     "execution_count": 42,
     "metadata": {},
     "output_type": "execute_result"
    }
   ],
   "source": [
    "#Loading of image\n",
    "img=image.load_img(r'C:\\Users\\Adithyan\\OneDrive\\Desktop\\data\\test\\Ventricular Fibrillation\\VFEfig_177.png',target_size=(64,64))\n",
    "#Converting image to array\n",
    "x=image.img_to_array(img)\n",
    "#Changing the shape\n",
    "x=np.expand_dims(x,axis=0)\n",
    "#Predicting the classes\n",
    "pred=model.predict(x)\n",
    "y_pred=np.argmax(pred)\n",
    "y_pred"
   ]
  },
  {
   "cell_type": "code",
   "execution_count": 43,
   "id": "41a1fe41",
   "metadata": {},
   "outputs": [
    {
     "data": {
      "text/plain": [
       "'Ventricular Fibrillation'"
      ]
     },
     "execution_count": 43,
     "metadata": {},
     "output_type": "execute_result"
    }
   ],
   "source": [
    "index=['left Bundle Branch block','Normal','Premature Atrial Contraction','Premature Ventricular Contraction','Right Bundle Branch Block','Ventricular Fibrillation']\n",
    "result = str(index[y_pred])\n",
    "result"
   ]
  }
 ],
 "metadata": {
  "kernelspec": {
   "display_name": "Python 3 (ipykernel)",
   "language": "python",
   "name": "python3"
  },
  "language_info": {
   "codemirror_mode": {
    "name": "ipython",
    "version": 3
   },
   "file_extension": ".py",
   "mimetype": "text/x-python",
   "name": "python",
   "nbconvert_exporter": "python",
   "pygments_lexer": "ipython3",
   "version": "3.9.13"
  }
 },
 "nbformat": 4,
 "nbformat_minor": 5
}
